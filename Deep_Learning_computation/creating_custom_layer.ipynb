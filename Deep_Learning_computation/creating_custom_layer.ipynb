{
  "nbformat": 4,
  "nbformat_minor": 0,
  "metadata": {
    "colab": {
      "name": "Untitled2.ipynb",
      "provenance": []
    },
    "kernelspec": {
      "name": "python3",
      "display_name": "Python 3"
    }
  },
  "cells": [
    {
      "cell_type": "markdown",
      "metadata": {
        "id": "vTVwUp0J9EiX",
        "colab_type": "text"
      },
      "source": [
        "# Creating Custom layers"
      ]
    },
    {
      "cell_type": "code",
      "metadata": {
        "id": "hjDT_Xhyd0-D",
        "colab_type": "code",
        "colab": {}
      },
      "source": [
        "import torch\n",
        "import torch.nn as nn\n",
        "from torch.autograd import Variable\n",
        "import torch.nn.functional as F"
      ],
      "execution_count": 20,
      "outputs": []
    },
    {
      "cell_type": "markdown",
      "metadata": {
        "id": "UPkFSwqo9qaS",
        "colab_type": "text"
      },
      "source": [
        "# Layer without parameters\n",
        "Creating a layer which performs centering and feature scaling over the input"
      ]
    },
    {
      "cell_type": "code",
      "metadata": {
        "id": "RLHzKAvz9T-C",
        "colab_type": "code",
        "colab": {}
      },
      "source": [
        "class CustomLayerWoParameters(nn.Module):\n",
        "\n",
        "  def __init__(self):\n",
        "    super().__init__()\n",
        "\n",
        "  def forward(self, X):\n",
        "    X = X - X.mean()\n",
        "    return X/(X.max() - X.min())"
      ],
      "execution_count": 8,
      "outputs": []
    },
    {
      "cell_type": "code",
      "metadata": {
        "id": "RUF1_OTf9S6u",
        "colab_type": "code",
        "colab": {
          "base_uri": "https://localhost:8080/",
          "height": 34
        },
        "outputId": "ebda1b79-9fd3-4b0a-bb75-9c407a2a4d16"
      },
      "source": [
        "center_layer = CustomLayerWoParameters()\n",
        "center_layer(torch.FloatTensor([1,2,3,4,5,6]))"
      ],
      "execution_count": 9,
      "outputs": [
        {
          "output_type": "execute_result",
          "data": {
            "text/plain": [
              "tensor([-0.5000, -0.3000, -0.1000,  0.1000,  0.3000,  0.5000])"
            ]
          },
          "metadata": {
            "tags": []
          },
          "execution_count": 9
        }
      ]
    },
    {
      "cell_type": "markdown",
      "metadata": {
        "id": "CZURUPcH-z7e",
        "colab_type": "text"
      },
      "source": [
        "Now using this layer in a model"
      ]
    },
    {
      "cell_type": "code",
      "metadata": {
        "id": "KE4C3hGB-n9h",
        "colab_type": "code",
        "colab": {}
      },
      "source": [
        "model = nn.Sequential(nn.Linear(784, 256), nn.ReLU(), nn.Linear(256, 128), nn.ReLU(), CustomLayerWoParameters(), nn.Linear(128, 16))"
      ],
      "execution_count": 11,
      "outputs": []
    },
    {
      "cell_type": "code",
      "metadata": {
        "id": "qdPqkPuRAIlG",
        "colab_type": "code",
        "colab": {}
      },
      "source": [
        "y = model(torch.randn(784))"
      ],
      "execution_count": 12,
      "outputs": []
    },
    {
      "cell_type": "code",
      "metadata": {
        "id": "yQ-wHX6oAdw9",
        "colab_type": "code",
        "colab": {
          "base_uri": "https://localhost:8080/",
          "height": 68
        },
        "outputId": "ebd3045b-69b2-4bc6-9cd3-8b7e3e588d91"
      },
      "source": [
        "print(y)"
      ],
      "execution_count": 13,
      "outputs": [
        {
          "output_type": "stream",
          "text": [
            "tensor([ 0.1062,  0.0806, -0.1107,  0.0729,  0.1580,  0.1286,  0.2094,  0.2878,\n",
            "        -0.0973, -0.0501,  0.0990,  0.0805, -0.0517,  0.0681,  0.1358,  0.1860],\n",
            "       grad_fn=<AddBackward0>)\n"
          ],
          "name": "stdout"
        }
      ]
    },
    {
      "cell_type": "markdown",
      "metadata": {
        "id": "07U1CJTnAhh2",
        "colab_type": "text"
      },
      "source": [
        "# Layer with parameter\n",
        "Gives us ability of end to end training, Here I'm trying to create a thresholding layer. Idea is to keep threshold as learnable parameter"
      ]
    },
    {
      "cell_type": "code",
      "metadata": {
        "id": "vqwHDPg3AfFn",
        "colab_type": "code",
        "colab": {}
      },
      "source": [
        "class AdaThreshold(nn.Module):\n",
        "\n",
        "  def __init__(self, out_features):\n",
        "    super().__init__()\n",
        "    self.threshold = Variable(torch.ones(out_features))\n",
        "\n",
        "  def forward(self, X):\n",
        "    thresholded_vec = (X<self.threshold)\n",
        "    return torch.tensor(thresholded_vec, dtype=torch.float32)"
      ],
      "execution_count": 26,
      "outputs": []
    },
    {
      "cell_type": "code",
      "metadata": {
        "id": "visYkbo3C-k2",
        "colab_type": "code",
        "colab": {
          "base_uri": "https://localhost:8080/",
          "height": 88
        },
        "outputId": "c89032b9-6254-4a98-a9ee-ff6784b98df6"
      },
      "source": [
        "threshold_layer = AdaThreshold(out_features=10)\n",
        "threshold_layer(torch.randn(10))"
      ],
      "execution_count": 27,
      "outputs": [
        {
          "output_type": "stream",
          "text": [
            "/usr/local/lib/python3.6/dist-packages/ipykernel_launcher.py:9: UserWarning: To copy construct from a tensor, it is recommended to use sourceTensor.clone().detach() or sourceTensor.clone().detach().requires_grad_(True), rather than torch.tensor(sourceTensor).\n",
            "  if __name__ == '__main__':\n"
          ],
          "name": "stderr"
        },
        {
          "output_type": "execute_result",
          "data": {
            "text/plain": [
              "tensor([1., 1., 1., 1., 1., 0., 0., 1., 1., 0.])"
            ]
          },
          "metadata": {
            "tags": []
          },
          "execution_count": 27
        }
      ]
    },
    {
      "cell_type": "markdown",
      "metadata": {
        "id": "N4k5oOp0D4Ym",
        "colab_type": "text"
      },
      "source": [
        "putting this layer into model"
      ]
    },
    {
      "cell_type": "code",
      "metadata": {
        "id": "124rTFxNDJ8L",
        "colab_type": "code",
        "colab": {
          "base_uri": "https://localhost:8080/",
          "height": 122
        },
        "outputId": "334757fa-d642-4468-c31a-60d8556aa9ea"
      },
      "source": [
        "model = nn.Sequential(nn.Linear(784, 256), nn.ReLU(), nn.Linear(256, 128), nn.ReLU(), AdaThreshold(128), nn.Linear(128, 16))\n",
        "y = model(torch.randn(784))\n",
        "print(y)"
      ],
      "execution_count": 30,
      "outputs": [
        {
          "output_type": "stream",
          "text": [
            "tensor([ 0.1891, -0.4544,  0.9712, -0.3627,  0.1832, -0.4668, -0.0545, -0.7840,\n",
            "         0.9422, -0.5710, -0.5363, -1.0384, -0.1755,  0.6081, -0.3865, -0.3153],\n",
            "       grad_fn=<AddBackward0>)\n"
          ],
          "name": "stdout"
        },
        {
          "output_type": "stream",
          "text": [
            "/usr/local/lib/python3.6/dist-packages/ipykernel_launcher.py:9: UserWarning: To copy construct from a tensor, it is recommended to use sourceTensor.clone().detach() or sourceTensor.clone().detach().requires_grad_(True), rather than torch.tensor(sourceTensor).\n",
            "  if __name__ == '__main__':\n"
          ],
          "name": "stderr"
        }
      ]
    },
    {
      "cell_type": "code",
      "metadata": {
        "id": "Nmn4y96pD-L3",
        "colab_type": "code",
        "colab": {}
      },
      "source": [
        ""
      ],
      "execution_count": null,
      "outputs": []
    }
  ]
}
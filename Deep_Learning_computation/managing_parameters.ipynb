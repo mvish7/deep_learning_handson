{
  "nbformat": 4,
  "nbformat_minor": 0,
  "metadata": {
    "colab": {
      "name": "Untitled1.ipynb",
      "provenance": []
    },
    "kernelspec": {
      "name": "python3",
      "display_name": "Python 3"
    }
  },
  "cells": [
    {
      "cell_type": "markdown",
      "metadata": {
        "id": "7xbHvCcDWhbU",
        "colab_type": "text"
      },
      "source": [
        "# Learning Ways to Access and Initialize parameters"
      ]
    },
    {
      "cell_type": "code",
      "metadata": {
        "id": "HVJfFuaDMCcW",
        "colab_type": "code",
        "colab": {}
      },
      "source": [
        "import torch\n",
        "import torch.nn as nn"
      ],
      "execution_count": 4,
      "outputs": []
    },
    {
      "cell_type": "markdown",
      "metadata": {
        "id": "X0pyGyImWrtc",
        "colab_type": "text"
      },
      "source": [
        "## Creating a MLP as a experimental nw"
      ]
    },
    {
      "cell_type": "code",
      "metadata": {
        "id": "DZyQiWtTWp_d",
        "colab_type": "code",
        "colab": {}
      },
      "source": [
        "net = nn.Sequential()\n",
        "net.add_module('Linear1', nn.Linear(256, 128, bias=True))\n",
        "net.add_module('relu', nn.ReLU())\n",
        "net.add_module('Output', nn.Linear(128, 10, bias=False))\n",
        "\n"
      ],
      "execution_count": null,
      "outputs": []
    },
    {
      "cell_type": "markdown",
      "metadata": {
        "id": "CFwdaj7YXUeT",
        "colab_type": "text"
      },
      "source": [
        "## Function to initialize weight"
      ]
    },
    {
      "cell_type": "code",
      "metadata": {
        "id": "ROUlV0RaXToi",
        "colab_type": "code",
        "colab": {}
      },
      "source": [
        "def init_weights(m):\n",
        "  if type(m) == nn.Linear:\n",
        "    torch.nn.init.xavier_uniform_(m.weight)"
      ],
      "execution_count": null,
      "outputs": []
    },
    {
      "cell_type": "code",
      "metadata": {
        "id": "91Ax-qsrXld1",
        "colab_type": "code",
        "colab": {
          "base_uri": "https://localhost:8080/",
          "height": 102
        },
        "outputId": "09fae1ae-c01f-4840-e04d-68aaca391561"
      },
      "source": [
        "net.apply(init_weights)"
      ],
      "execution_count": null,
      "outputs": [
        {
          "output_type": "execute_result",
          "data": {
            "text/plain": [
              "Sequential(\n",
              "  (Linear1): Linear(in_features=256, out_features=128, bias=True)\n",
              "  (relu): ReLU()\n",
              "  (Output): Linear(in_features=128, out_features=10, bias=False)\n",
              ")"
            ]
          },
          "metadata": {
            "tags": []
          },
          "execution_count": 7
        }
      ]
    },
    {
      "cell_type": "code",
      "metadata": {
        "id": "WLVZNkohXqVb",
        "colab_type": "code",
        "colab": {
          "base_uri": "https://localhost:8080/",
          "height": 51
        },
        "outputId": "c9701d7e-f94b-4df9-e65f-6be008108373"
      },
      "source": [
        "x = torch.randn(1, 256)\n",
        "net(x)"
      ],
      "execution_count": null,
      "outputs": [
        {
          "output_type": "execute_result",
          "data": {
            "text/plain": [
              "tensor([[ 0.9744,  0.2991,  0.2853,  1.5426,  1.0074,  1.3887, -3.0738,  1.7791,\n",
              "         -0.8074,  0.6550]], grad_fn=<MmBackward>)"
            ]
          },
          "metadata": {
            "tags": []
          },
          "execution_count": 8
        }
      ]
    },
    {
      "cell_type": "markdown",
      "metadata": {
        "id": "47J27xZlYD2U",
        "colab_type": "text"
      },
      "source": [
        "# Parameter Access"
      ]
    },
    {
      "cell_type": "code",
      "metadata": {
        "id": "lT7gDhnzYBpP",
        "colab_type": "code",
        "colab": {
          "base_uri": "https://localhost:8080/",
          "height": 68
        },
        "outputId": "7a7a5d6a-f565-45e8-95ca-fc7f1066a3ec"
      },
      "source": [
        "# accessing parameters layerswise by layer indexing\n",
        "print(net[0].parameters)\n",
        "print(net[1].parameters)\n",
        "print(net[2].parameters)"
      ],
      "execution_count": null,
      "outputs": [
        {
          "output_type": "stream",
          "text": [
            "<bound method Module.parameters of Linear(in_features=256, out_features=128, bias=True)>\n",
            "<bound method Module.parameters of ReLU()>\n",
            "<bound method Module.parameters of Linear(in_features=128, out_features=10, bias=False)>\n"
          ],
          "name": "stdout"
        }
      ]
    },
    {
      "cell_type": "code",
      "metadata": {
        "id": "J0uo1yXEYKIW",
        "colab_type": "code",
        "colab": {}
      },
      "source": [
        "# accessing targeted parameters\n",
        "print(net[0].bias)\n",
        "print(net[2].weight)"
      ],
      "execution_count": null,
      "outputs": []
    },
    {
      "cell_type": "code",
      "metadata": {
        "id": "IsYIGD1MYtwq",
        "colab_type": "code",
        "colab": {
          "base_uri": "https://localhost:8080/",
          "height": 187
        },
        "outputId": "42b5bea7-3cdc-45ae-c49d-337ef34d37e0"
      },
      "source": [
        "# accessing parameters with name of the layers\n",
        "print(net.Linear1.weight)\n",
        "print(net.Output.bias)"
      ],
      "execution_count": null,
      "outputs": [
        {
          "output_type": "stream",
          "text": [
            "Parameter containing:\n",
            "tensor([[-0.0718,  0.0055, -0.0962,  ...,  0.0004,  0.0776,  0.0320],\n",
            "        [ 0.0582,  0.0014,  0.1235,  ...,  0.0137,  0.0655, -0.0800],\n",
            "        [ 0.1208,  0.0362,  0.0236,  ...,  0.0054, -0.0544, -0.0760],\n",
            "        ...,\n",
            "        [ 0.0034,  0.0466,  0.0583,  ...,  0.0335,  0.0234,  0.1248],\n",
            "        [-0.0514, -0.0778,  0.0663,  ...,  0.0990, -0.0481, -0.0346],\n",
            "        [-0.0792, -0.0218, -0.0362,  ...,  0.1049,  0.0213,  0.1178]],\n",
            "       requires_grad=True)\n",
            "None\n"
          ],
          "name": "stdout"
        }
      ]
    },
    {
      "cell_type": "code",
      "metadata": {
        "id": "1e-a4OB-ZJ8_",
        "colab_type": "code",
        "colab": {
          "base_uri": "https://localhost:8080/",
          "height": 102
        },
        "outputId": "6cc8e102-4a60-424e-eb36-a94a5ef12d43"
      },
      "source": [
        "# all parameters at once in the form of state dict\n",
        "print(net.state_dict)"
      ],
      "execution_count": null,
      "outputs": [
        {
          "output_type": "stream",
          "text": [
            "<bound method Module.state_dict of Sequential(\n",
            "  (Linear1): Linear(in_features=256, out_features=128, bias=True)\n",
            "  (relu): ReLU()\n",
            "  (Output): Linear(in_features=128, out_features=10, bias=False)\n",
            ")>\n"
          ],
          "name": "stdout"
        }
      ]
    },
    {
      "cell_type": "markdown",
      "metadata": {
        "id": "3RQra936Z2Wo",
        "colab_type": "text"
      },
      "source": [
        "# Parameter Initialization techniques"
      ]
    },
    {
      "cell_type": "code",
      "metadata": {
        "id": "A9_tRyJvZVZj",
        "colab_type": "code",
        "colab": {
          "base_uri": "https://localhost:8080/",
          "height": 170
        },
        "outputId": "5ca7fcbd-7666-4fe5-ba16-312c71339ea3"
      },
      "source": [
        "# initializazing parameters of single layer\n",
        "l1 = nn.Linear(20, 256, bias=True)\n",
        "nn.init.normal_(l1.weight, mean=0.0, std=0.01)"
      ],
      "execution_count": null,
      "outputs": [
        {
          "output_type": "execute_result",
          "data": {
            "text/plain": [
              "Parameter containing:\n",
              "tensor([[-0.0090,  0.0048,  0.0175,  ...,  0.0139, -0.0056, -0.0217],\n",
              "        [ 0.0175,  0.0006,  0.0016,  ..., -0.0042, -0.0011,  0.0024],\n",
              "        [ 0.0064, -0.0064, -0.0164,  ..., -0.0059,  0.0165,  0.0210],\n",
              "        ...,\n",
              "        [-0.0117,  0.0132,  0.0046,  ...,  0.0142,  0.0079, -0.0113],\n",
              "        [-0.0089, -0.0088,  0.0166,  ..., -0.0124,  0.0173,  0.0001],\n",
              "        [ 0.0151, -0.0144, -0.0100,  ...,  0.0175,  0.0082,  0.0053]],\n",
              "       requires_grad=True)"
            ]
          },
          "metadata": {
            "tags": []
          },
          "execution_count": 24
        }
      ]
    },
    {
      "cell_type": "code",
      "metadata": {
        "id": "Qd95pIoXbmVI",
        "colab_type": "code",
        "colab": {
          "base_uri": "https://localhost:8080/",
          "height": 102
        },
        "outputId": "47cb48a5-cb50-49ac-90c1-77089b0531a8"
      },
      "source": [
        "# using init weight\n",
        "model = nn.Sequential(nn.Linear(10, 128, bias=False), nn.ReLU(), nn.Linear(128, 32, bias=False))\n",
        "net.apply(init_weights)"
      ],
      "execution_count": null,
      "outputs": [
        {
          "output_type": "execute_result",
          "data": {
            "text/plain": [
              "Sequential(\n",
              "  (Linear1): Linear(in_features=256, out_features=128, bias=True)\n",
              "  (relu): ReLU()\n",
              "  (Output): Linear(in_features=128, out_features=10, bias=False)\n",
              ")"
            ]
          },
          "metadata": {
            "tags": []
          },
          "execution_count": 29
        }
      ]
    },
    {
      "cell_type": "code",
      "metadata": {
        "id": "euVOrdfTbu9h",
        "colab_type": "code",
        "colab": {
          "base_uri": "https://localhost:8080/",
          "height": 34
        },
        "outputId": "1fb59489-3e5c-4a02-820a-09d49315beff"
      },
      "source": [
        "# initializing weigths with constants\n",
        "def init_weight_constants(m):\n",
        "  if type(m) == nn.Linear:\n",
        "    torch.nn.init.constant_(m.weight, 1)\n",
        "\n",
        "model = nn.Sequential(nn.Linear(10, 128, bias=False), nn.ReLU(), nn.Linear(128, 32, bias=False))\n",
        "model.apply(init_weight_constants)\n",
        "print(model[0].parameters)"
      ],
      "execution_count": null,
      "outputs": [
        {
          "output_type": "stream",
          "text": [
            "<bound method Module.parameters of Linear(in_features=10, out_features=128, bias=False)>\n"
          ],
          "name": "stdout"
        }
      ]
    },
    {
      "cell_type": "markdown",
      "metadata": {
        "id": "9A8vMhdWdFUq",
        "colab_type": "text"
      },
      "source": [
        "# Sharing parameters with other layers"
      ]
    },
    {
      "cell_type": "code",
      "metadata": {
        "id": "AMJ18KIIc_C0",
        "colab_type": "code",
        "colab": {
          "base_uri": "https://localhost:8080/",
          "height": 34
        },
        "outputId": "a5074d15-c4f3-4a1a-a5fe-ac9f885b25ba"
      },
      "source": [
        "l1 = nn.Linear(5, 25, bias=False)\n",
        "nn.init.constant_(l1.weight, 5) \n",
        "\n",
        "\n",
        "l2 = nn.Linear(5, 25, bias= False)\n",
        "l2.parameters = l1.parameters\n",
        "\n",
        "l1.parameters == l2.parameters"
      ],
      "execution_count": null,
      "outputs": [
        {
          "output_type": "execute_result",
          "data": {
            "text/plain": [
              "True"
            ]
          },
          "metadata": {
            "tags": []
          },
          "execution_count": 33
        }
      ]
    },
    {
      "cell_type": "markdown",
      "metadata": {
        "id": "ebPhgLlGyTmr",
        "colab_type": "text"
      },
      "source": [
        " # Deferred Initialization\n",
        " provision for the cases when in_features can't be determined beforehand"
      ]
    },
    {
      "cell_type": "code",
      "metadata": {
        "id": "n3CZc1Ipdf0M",
        "colab_type": "code",
        "colab": {}
      },
      "source": [
        "# creating a nw\n",
        "\n",
        "def net(in_features, out_features):\n",
        "  return nn.Sequential(nn.Linear(in_features, 256), \n",
        "         nn.ReLU(), nn.Linear(256, out_features))\n"
      ],
      "execution_count": 8,
      "outputs": []
    },
    {
      "cell_type": "code",
      "metadata": {
        "id": "AYL5Rq2xzb3_",
        "colab_type": "code",
        "colab": {}
      },
      "source": [
        "net = net(10,10)"
      ],
      "execution_count": 9,
      "outputs": []
    },
    {
      "cell_type": "code",
      "metadata": {
        "id": "DchypKsZzLcT",
        "colab_type": "code",
        "colab": {
          "base_uri": "https://localhost:8080/",
          "height": 238
        },
        "outputId": "8066d1bd-e031-451d-982c-5b85959b97d0"
      },
      "source": [
        "def init_weights(m):\n",
        "  print(\"Init\",m)\n",
        "\n",
        "net.apply(init_weights)"
      ],
      "execution_count": 10,
      "outputs": [
        {
          "output_type": "stream",
          "text": [
            "Init Linear(in_features=10, out_features=256, bias=True)\n",
            "Init ReLU()\n",
            "Init Linear(in_features=256, out_features=10, bias=True)\n",
            "Init Sequential(\n",
            "  (0): Linear(in_features=10, out_features=256, bias=True)\n",
            "  (1): ReLU()\n",
            "  (2): Linear(in_features=256, out_features=10, bias=True)\n",
            ")\n"
          ],
          "name": "stdout"
        },
        {
          "output_type": "execute_result",
          "data": {
            "text/plain": [
              "Sequential(\n",
              "  (0): Linear(in_features=10, out_features=256, bias=True)\n",
              "  (1): ReLU()\n",
              "  (2): Linear(in_features=256, out_features=10, bias=True)\n",
              ")"
            ]
          },
          "metadata": {
            "tags": []
          },
          "execution_count": 10
        }
      ]
    },
    {
      "cell_type": "markdown",
      "metadata": {
        "id": "T7ILc-hC0Ijp",
        "colab_type": "text"
      },
      "source": [
        "We can't set or get parametrs before first time forward method is involed as \n",
        "parameters get initialized only at that time. because input shape becomes know to the network when forward is invoked"
      ]
    },
    {
      "cell_type": "code",
      "metadata": {
        "id": "-H5WcnnVzk5c",
        "colab_type": "code",
        "colab": {}
      },
      "source": [
        ""
      ],
      "execution_count": null,
      "outputs": []
    }
  ]
}
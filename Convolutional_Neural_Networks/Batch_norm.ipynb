{
  "nbformat": 4,
  "nbformat_minor": 0,
  "metadata": {
    "colab": {
      "name": "Untitled6.ipynb",
      "provenance": []
    },
    "kernelspec": {
      "name": "python3",
      "display_name": "Python 3"
    }
  },
  "cells": [
    {
      "cell_type": "markdown",
      "metadata": {
        "id": "9Pu43vbymIhv",
        "colab_type": "text"
      },
      "source": [
        "# Implementing Batchnormalization from scratch"
      ]
    },
    {
      "cell_type": "code",
      "metadata": {
        "id": "HElgbJ6dl1IU",
        "colab_type": "code",
        "colab": {}
      },
      "source": [
        "import torch\n",
        "import torch.nn as nn\n"
      ],
      "execution_count": 1,
      "outputs": []
    },
    {
      "cell_type": "markdown",
      "metadata": {
        "id": "vSjAgo1UmzZG",
        "colab_type": "text"
      },
      "source": [
        "## Logic behind the batch normalization layer\n",
        "* check if mode is training or inference\n",
        "* If in inference mode then use pre determined mean and variance\n",
        "* If in training mode then detect thee type of the layer\n",
        "* If fully connected layer then calculate the mean and variance over dimension of the input\n",
        "* If Conv layer then calculate mean and variance over channel dimension for each feature map"
      ]
    },
    {
      "cell_type": "code",
      "metadata": {
        "id": "7t4-sEdVmtfB",
        "colab_type": "code",
        "colab": {}
      },
      "source": [
        "\n",
        "def batch_norm(X, gamma, beta, moving_mean, moving_var, eps, momentum):\n",
        "    # to determine whether the current mode is training mode or\n",
        "    # inference mode, when grad not enable then inference mode\n",
        "    if not torch.is_grad_enabled():\n",
        "        X_hat = (X - moving_mean) / torch.sqrt(moving_var + eps)\n",
        "    else:\n",
        "        assert len(X.shape) in (2, 4)\n",
        "        if len(X.shape) == 2:\n",
        "            # fully connected layer\n",
        "            mean = X.mean(dim=0)\n",
        "            var = ((X - mean) ** 2).mean(dim=0)\n",
        "        else:\n",
        "            # When using a two-dimensional convolutional layer, calculate the\n",
        "            # mean and variance on the channel dimension (axis=1).\n",
        "            mean = X.mean(dim=(0, 2, 3), keepdim=True)\n",
        "            var = ((X - mean) ** 2).mean(dim=(0, 2, 3), keepdim=True)\n",
        "        # In training mode, the current mean and variance are used for the\n",
        "        # standardization\n",
        "        X_hat = (X - mean) / torch.sqrt(var + eps)\n",
        "        # Update the mean and variance of the moving average\n",
        "        moving_mean = momentum * moving_mean + (1.0 - momentum) * mean\n",
        "        moving_var = momentum * moving_var + (1.0 - momentum) * var\n",
        "    Y = gamma * X_hat + beta  # Scale and shift\n",
        "    return Y, moving_mean, moving_var"
      ],
      "execution_count": 2,
      "outputs": []
    },
    {
      "cell_type": "code",
      "metadata": {
        "id": "dp0B1OlHoROL",
        "colab_type": "code",
        "colab": {}
      },
      "source": [
        ""
      ],
      "execution_count": null,
      "outputs": []
    }
  ]
}
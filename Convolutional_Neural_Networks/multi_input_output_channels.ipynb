{
  "nbformat": 4,
  "nbformat_minor": 0,
  "metadata": {
    "colab": {
      "name": "Untitled4.ipynb",
      "provenance": []
    },
    "kernelspec": {
      "name": "python3",
      "display_name": "Python 3"
    }
  },
  "cells": [
    {
      "cell_type": "markdown",
      "metadata": {
        "id": "-ANBBX4GjJvW",
        "colab_type": "text"
      },
      "source": [
        ""
      ]
    },
    {
      "cell_type": "markdown",
      "metadata": {
        "id": "oLkZxaKGjK_f",
        "colab_type": "text"
      },
      "source": [
        "# Considering multiple input output channels in conv layers\n",
        "\n",
        "Till now we considered only 1 dimensional input and 1 dimensional output. In reality RGB images have 3 channels hence the convolutional kernal should also have 3 channels. \n",
        "Similarly, while taking output from convolutional layer we generate N feature maps of W*H shape. This creates a need to have multiple output channels as well.\n",
        "\n",
        "Now considering each case at a time"
      ]
    },
    {
      "cell_type": "code",
      "metadata": {
        "id": "AKEwL7gFjI6Y",
        "colab_type": "code",
        "colab": {}
      },
      "source": [
        "import torch\n",
        "import torch.nn as nn"
      ],
      "execution_count": 1,
      "outputs": []
    },
    {
      "cell_type": "markdown",
      "metadata": {
        "id": "6STL8F-7lXHJ",
        "colab_type": "text"
      },
      "source": [
        "## Multi input channels"
      ]
    },
    {
      "cell_type": "code",
      "metadata": {
        "id": "rgPd_arcnGzd",
        "colab_type": "code",
        "colab": {}
      },
      "source": [
        "# rewriting conv2d function here\n",
        "def conv2d(X, K):\n",
        "  h, w = K.shape\n",
        "  Y = torch.zeros((X.shape[0] - h + 1, X.shape[1] - w + 1))\n",
        "  for i in range(Y.shape[0]):\n",
        "    for j in range(Y.shape[1]):\n",
        "      Y[i, j] = (X[i: i + h, j: j + w] * K).sum()\n",
        "  return Y"
      ],
      "execution_count": 2,
      "outputs": []
    },
    {
      "cell_type": "code",
      "metadata": {
        "id": "9x4E2BrGlPD-",
        "colab_type": "code",
        "colab": {}
      },
      "source": [
        "def conv2d_multi_in(X, K):\n",
        "  return sum([conv2d(x, k) for x, k in zip(X, K)])\n"
      ],
      "execution_count": 3,
      "outputs": []
    },
    {
      "cell_type": "code",
      "metadata": {
        "id": "ak1rc8YYne4u",
        "colab_type": "code",
        "colab": {}
      },
      "source": [
        "X = torch.tensor([[[0,1,2], [2,3,4], [4,5,6], [6,7,8]],\n",
        "                  [[0,1,2], [2,3,4], [4,5,6], [6,7,8]]])\n",
        "K = torch.tensor([[[0,1], [1,2]],\n",
        "                  [[0,1], [1,2]]])"
      ],
      "execution_count": 14,
      "outputs": []
    },
    {
      "cell_type": "code",
      "metadata": {
        "id": "tPd4p7F-q1x8",
        "colab_type": "code",
        "colab": {
          "base_uri": "https://localhost:8080/",
          "height": 34
        },
        "outputId": "35bdd8fa-b6b6-4e5f-8cea-a7c7047885f8"
      },
      "source": [
        "conv2d_multi_in(X, K).shape"
      ],
      "execution_count": 15,
      "outputs": [
        {
          "output_type": "execute_result",
          "data": {
            "text/plain": [
              "torch.Size([3, 2])"
            ]
          },
          "metadata": {
            "tags": []
          },
          "execution_count": 15
        }
      ]
    },
    {
      "cell_type": "markdown",
      "metadata": {
        "id": "jMleC_xoruVK",
        "colab_type": "text"
      },
      "source": [
        "## Multiple input - output channels"
      ]
    },
    {
      "cell_type": "code",
      "metadata": {
        "id": "QaiBcG_DrRK_",
        "colab_type": "code",
        "colab": {}
      },
      "source": [
        "def corr2d_multi_in_out(X, K):\n",
        "  # Traverse along the 0th dimension of K, and each time, perform\n",
        "  # cross-correlation operations with input X. All of the results are merged\n",
        "  # together using the stack function\n",
        "  return torch.stack([conv2d_multi_in(X, k) for k in K], dim=0)"
      ],
      "execution_count": 16,
      "outputs": []
    },
    {
      "cell_type": "code",
      "metadata": {
        "id": "uP3m9OA0r-ct",
        "colab_type": "code",
        "colab": {}
      },
      "source": [
        "corr2d_multi_in_out(X, K)"
      ],
      "execution_count": null,
      "outputs": []
    },
    {
      "cell_type": "code",
      "metadata": {
        "id": "iVSFEDaAsC-F",
        "colab_type": "code",
        "colab": {}
      },
      "source": [
        ""
      ],
      "execution_count": null,
      "outputs": []
    }
  ]
}
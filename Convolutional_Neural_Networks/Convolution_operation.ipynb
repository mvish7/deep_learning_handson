{
  "nbformat": 4,
  "nbformat_minor": 0,
  "metadata": {
    "colab": {
      "name": "Untitled3.ipynb",
      "provenance": []
    },
    "kernelspec": {
      "name": "python3",
      "display_name": "Python 3"
    }
  },
  "cells": [
    {
      "cell_type": "markdown",
      "metadata": {
        "id": "sKObG2ElLP7E",
        "colab_type": "text"
      },
      "source": [
        " # Implementing Convolutional layer from scratch and with pytorch"
      ]
    },
    {
      "cell_type": "code",
      "metadata": {
        "id": "viJylWH3K-Hn",
        "colab_type": "code",
        "colab": {}
      },
      "source": [
        "import torch\n",
        "import torch.nn as nn"
      ],
      "execution_count": 2,
      "outputs": []
    },
    {
      "cell_type": "markdown",
      "metadata": {
        "id": "RuwSy7aoK8Ov",
        "colab_type": "text"
      },
      "source": [
        "## Conv operation from scratch -  a basic implementation of concept"
      ]
    },
    {
      "cell_type": "code",
      "metadata": {
        "id": "Csf3kCAlK6d9",
        "colab_type": "code",
        "colab": {}
      },
      "source": [
        "def conv2d(X, K):\n",
        "  # not considering padding and stride\n",
        "  h, w = K.shape\n",
        "  output = torch.zeros((X.shape[0]-h+1, X.shape[1]- w + 1))\n",
        "\n",
        "  for i in range(output.shape[0]):\n",
        "    for j in range(output.shape[1]):\n",
        "      output[i, j] = (X[i:i+h, j:j+w] * K).sum()\n",
        "  return output"
      ],
      "execution_count": 9,
      "outputs": []
    },
    {
      "cell_type": "code",
      "metadata": {
        "id": "6jw62fXHNRl7",
        "colab_type": "code",
        "colab": {
          "base_uri": "https://localhost:8080/",
          "height": 51
        },
        "outputId": "a4e61bea-02b7-41cf-a7a0-960f557152ce"
      },
      "source": [
        "X = torch.Tensor([[0, 1, 2], [3, 4, 5], [6, 7, 8]])\n",
        "K = torch.Tensor([[0, 1], [2, 3]])\n",
        "conv2d(X, K)"
      ],
      "execution_count": 10,
      "outputs": [
        {
          "output_type": "execute_result",
          "data": {
            "text/plain": [
              "tensor([[19., 25.],\n",
              "        [37., 43.]])"
            ]
          },
          "metadata": {
            "tags": []
          },
          "execution_count": 10
        }
      ]
    },
    {
      "cell_type": "markdown",
      "metadata": {
        "id": "4HjFav2JOWfe",
        "colab_type": "text"
      },
      "source": [
        "## Creating a Conv layer"
      ]
    },
    {
      "cell_type": "code",
      "metadata": {
        "id": "XaCyNraLN_a0",
        "colab_type": "code",
        "colab": {}
      },
      "source": [
        "class ConvLayer(nn.Module):\n",
        "  def __init__(self,kernel_size, **kwargs):\n",
        "    super(ConvLayer).__init__(**kwargs)\n",
        "    self.w = torch.randn(kernel_size, dtype=torch.float32, requires_grad=True).normal_(mean=0, std=0.01)\n",
        "    self.bias = torch.zeros((1,),dtype=torch.float32,requires_grad=True)\n",
        "\n",
        "  def forward(self, x):\n",
        "    return conv2d(x, self.w) + self.bias"
      ],
      "execution_count": 11,
      "outputs": []
    },
    {
      "cell_type": "code",
      "metadata": {
        "id": "XDGAHe9fUD_K",
        "colab_type": "code",
        "colab": {}
      },
      "source": [
        "X = torch.ones((6, 8))\n",
        "k = torch.Tensor([[1, 2]])"
      ],
      "execution_count": 15,
      "outputs": []
    },
    {
      "cell_type": "code",
      "metadata": {
        "id": "AZ6SCBXgUH5G",
        "colab_type": "code",
        "colab": {
          "base_uri": "https://localhost:8080/",
          "height": 119
        },
        "outputId": "4925baec-a140-49e3-97f5-54f72e1291c4"
      },
      "source": [
        "conv2d(X, k)"
      ],
      "execution_count": 16,
      "outputs": [
        {
          "output_type": "execute_result",
          "data": {
            "text/plain": [
              "tensor([[3., 3., 3., 3., 3., 3., 3.],\n",
              "        [3., 3., 3., 3., 3., 3., 3.],\n",
              "        [3., 3., 3., 3., 3., 3., 3.],\n",
              "        [3., 3., 3., 3., 3., 3., 3.],\n",
              "        [3., 3., 3., 3., 3., 3., 3.],\n",
              "        [3., 3., 3., 3., 3., 3., 3.]])"
            ]
          },
          "metadata": {
            "tags": []
          },
          "execution_count": 16
        }
      ]
    },
    {
      "cell_type": "markdown",
      "metadata": {
        "id": "bGqCTukhYsyD",
        "colab_type": "text"
      },
      "source": [
        "# Conv layer with padding"
      ]
    },
    {
      "cell_type": "code",
      "metadata": {
        "id": "tcGM0HsKUSzI",
        "colab_type": "code",
        "colab": {}
      },
      "source": [
        "# convenience function to calculate the convolutional layer. This\n",
        "# function  performs corresponding dimensionality elevations and reductions on\n",
        "# the input and output\n",
        "def comp_conv2d(conv2d, X):\n",
        "  # (1,1) indicates that the batch size and the number of channels\n",
        "  X = X.reshape((1, 1) + X.shape)\n",
        "  Y = conv2d(X)\n",
        "  # Exclude the first two dimensions that do not interest us: batch and\n",
        "  # channel\n",
        "  return Y.reshape(Y.shape[2:])\n",
        "  # Note that here 1 row or column is padded on either side, so a total of 2\n",
        "  # rows or columns are added\n"
      ],
      "execution_count": 18,
      "outputs": []
    },
    {
      "cell_type": "code",
      "metadata": {
        "id": "wQN4tDAEcquS",
        "colab_type": "code",
        "colab": {
          "base_uri": "https://localhost:8080/",
          "height": 34
        },
        "outputId": "4968bc10-f2b0-4c9e-eece-a4d978b73a73"
      },
      "source": [
        "conv2d = nn.Conv2d(in_channels=1,out_channels=1,kernel_size=3,padding=1)\n",
        "X = torch.rand(size=(8, 8))\n",
        "comp_conv2d(conv2d, X).shape"
      ],
      "execution_count": 19,
      "outputs": [
        {
          "output_type": "execute_result",
          "data": {
            "text/plain": [
              "torch.Size([8, 8])"
            ]
          },
          "metadata": {
            "tags": []
          },
          "execution_count": 19
        }
      ]
    },
    {
      "cell_type": "code",
      "metadata": {
        "id": "iDgMSWRzc0Co",
        "colab_type": "code",
        "colab": {}
      },
      "source": [
        ""
      ],
      "execution_count": null,
      "outputs": []
    }
  ]
}
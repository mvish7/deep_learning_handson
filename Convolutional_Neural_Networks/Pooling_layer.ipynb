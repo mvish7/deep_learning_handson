{
  "nbformat": 4,
  "nbformat_minor": 0,
  "metadata": {
    "colab": {
      "name": "Untitled5.ipynb",
      "provenance": []
    },
    "kernelspec": {
      "name": "python3",
      "display_name": "Python 3"
    }
  },
  "cells": [
    {
      "cell_type": "markdown",
      "metadata": {
        "id": "LptsoyaGENtg",
        "colab_type": "text"
      },
      "source": [
        "# Implementing pooling layer\n",
        "\n",
        "* Reduces the spatial size of the representation\n",
        "* Reduce the dependence on the dimensionality of original image\n",
        "* Alleviates excessive sensitivity of conv layer to the location of the feature in the original image"
      ]
    },
    {
      "cell_type": "code",
      "metadata": {
        "id": "c1hMZIPGEMWQ",
        "colab_type": "code",
        "colab": {}
      },
      "source": [
        "import torch\n",
        "import torch.nn as nn"
      ],
      "execution_count": 1,
      "outputs": []
    },
    {
      "cell_type": "code",
      "metadata": {
        "id": "esoA4H56E4XG",
        "colab_type": "code",
        "colab": {}
      },
      "source": [
        "# leaving out padding and stride of this basic implentation\n",
        "def pool2d(X, pool_size, mode='max'):\n",
        "  p_h, p_w = pool_size\n",
        "  Y = torch.zeros((X.shape[0] - p_h + 1, X.shape[1] - p_w + 1))\n",
        "  for i in range(Y.shape[0]):\n",
        "    for j in range(Y.shape[1]):\n",
        "      if mode == 'max':\n",
        "        Y[i, j] = X[i: i + p_h, j: j + p_w].max()\n",
        "      elif mode == 'avg':\n",
        "        Y[i, j] = X[i: i + p_h, j: j + p_w].mean()\n",
        "  return Y"
      ],
      "execution_count": 2,
      "outputs": []
    },
    {
      "cell_type": "markdown",
      "metadata": {
        "id": "4OjqRbqzFe4t",
        "colab_type": "text"
      },
      "source": [
        "******** When processing multi-channel input data, the pooling layer pools each input channel separately, rather than\n",
        "adding the inputs of each channel by channel as in a convolutional layer. This means that the number of output\n",
        "channels for the pooling layer is the same as the number of input channels.\n"
      ]
    },
    {
      "cell_type": "code",
      "metadata": {
        "id": "lBZVSioSFVGW",
        "colab_type": "code",
        "colab": {}
      },
      "source": [
        ""
      ],
      "execution_count": null,
      "outputs": []
    }
  ]
}